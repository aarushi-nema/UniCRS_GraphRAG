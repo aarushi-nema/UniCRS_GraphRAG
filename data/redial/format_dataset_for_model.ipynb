{
 "cells": [
  {
   "cell_type": "code",
   "execution_count": 1,
   "metadata": {},
   "outputs": [],
   "source": [
    "import pandas as pd\n",
    "import numpy as np"
   ]
  },
  {
   "cell_type": "code",
   "execution_count": 7,
   "metadata": {},
   "outputs": [
    {
     "data": {
      "application/vnd.jupyter.widget-view+json": {
       "model_id": "8a05388c94cd450b8601feaa10f76f3e",
       "version_major": 2,
       "version_minor": 0
      },
      "text/plain": [
       "Processing /home/Nema/UniCRS_GraphRAG/data/redial/test_data_dbpedia_raw.jsonl: 0it [00:00, ?it/s]"
      ]
     },
     "metadata": {},
     "output_type": "display_data"
    },
    {
     "data": {
      "application/vnd.jupyter.widget-view+json": {
       "model_id": "4b1e559990954fd89ee711399e9de5b0",
       "version_major": 2,
       "version_minor": 0
      },
      "text/plain": [
       "Processing /home/Nema/UniCRS_GraphRAG/data/redial/valid_data_dbpedia_raw.jsonl: 0it [00:00, ?it/s]"
      ]
     },
     "metadata": {},
     "output_type": "display_data"
    },
    {
     "data": {
      "application/vnd.jupyter.widget-view+json": {
       "model_id": "aa538e1a2d7e44e8a177fed09b0bf98a",
       "version_major": 2,
       "version_minor": 0
      },
      "text/plain": [
       "Processing /home/Nema/UniCRS_GraphRAG/data/redial/train_data_dbpedia_raw.jsonl: 0it [00:00, ?it/s]"
      ]
     },
     "metadata": {},
     "output_type": "display_data"
    },
    {
     "name": "stdout",
     "output_type": "stream",
     "text": [
      "Processing completed for all files.\n"
     ]
    }
   ],
   "source": [
    "import json\n",
    "import re\n",
    "from tqdm.auto import tqdm\n",
    "\n",
    "# Load entity2id mapping and normalize keys\n",
    "with open('/home/Nema/UniCRS_GraphRAG/GraphRAG/entity2id.json', encoding='utf-8') as f:\n",
    "    entity2id = {key.lower(): value for key, value in json.load(f).items()}  # Convert to lowercase\n",
    "\n",
    "def simplify_uri(uri):\n",
    "    \"\"\"Extracts the suffix from a URI and normalizes it.\"\"\"\n",
    "    if uri.startswith(\"<http://dbpedia.org/resource/\"):\n",
    "        # Remove URI prefix and convert underscores to spaces\n",
    "        simplified = uri.split(\"/\")[-1].strip(\">\").replace(\"_\", \" \").lower()\n",
    "        # Remove parenthetical annotations like \"(film)\"\n",
    "        return re.sub(r\"\\s*\\(.*?\\)\", \"\", simplified).strip()\n",
    "    return uri.lower()\n",
    "\n",
    "def find_matching_entity(simplified_entity, entity2id):\n",
    "    \"\"\"Find a matching entity in entity2id using substring matching.\"\"\"\n",
    "    for key in entity2id:\n",
    "        # Normalize key (entity2id keys are already lowercase)\n",
    "        normalized_key = re.sub(r\"\\s*\\(.*?\\)\", \"\", key).strip()\n",
    "        if simplified_entity in normalized_key:  # Substring matching\n",
    "            return key\n",
    "    return None\n",
    "\n",
    "def process_file(src_file, tgt_file, entity2id):\n",
    "    \"\"\"\n",
    "    Processes the input JSONL file to:\n",
    "    1. Simplify all URIs in entities and movies.\n",
    "    2. Normalize and filter entities and movies based on entity2id using substring matching.\n",
    "    3. Save the processed data into a new JSONL file.\n",
    "\n",
    "    Args:\n",
    "        src_file (str): Path to the input JSONL file.\n",
    "        tgt_file (str): Path to the output JSONL file.\n",
    "        entity2id (dict): Mapping of entities to IDs.\n",
    "    \"\"\"\n",
    "    with open(src_file, encoding='utf-8') as f, open(tgt_file, 'w', encoding='utf-8') as tgt:\n",
    "        for line in tqdm(f, desc=f\"Processing {src_file}\"):\n",
    "            record = json.loads(line)\n",
    "            for message in record['messages']:\n",
    "                # Simplify and filter entities\n",
    "                new_entity, new_entity_name = [], []\n",
    "                for j, entity in enumerate(message['entity']):\n",
    "                    simplified_entity = simplify_uri(entity)\n",
    "                    matching_entity = find_matching_entity(simplified_entity, entity2id)\n",
    "                    if matching_entity:\n",
    "                        new_entity.append(matching_entity)\n",
    "                        new_entity_name.append(message['entity_name'][j])\n",
    "                message['entity'] = new_entity\n",
    "                message['entity_name'] = new_entity_name\n",
    "\n",
    "                # Simplify and filter movies\n",
    "                new_movie, new_movie_name = [], []\n",
    "                for j, movie in enumerate(message['movie']):\n",
    "                    simplified_movie = simplify_uri(movie)\n",
    "                    matching_movie = find_matching_entity(simplified_movie, entity2id)\n",
    "                    if matching_movie:\n",
    "                        new_movie.append(matching_movie)\n",
    "                        new_movie_name.append(message['movie_name'][j])\n",
    "                message['movie'] = new_movie\n",
    "                message['movie_name'] = new_movie_name\n",
    "\n",
    "            # Write the processed record to the target file\n",
    "            tgt.write(json.dumps(record, ensure_ascii=False) + '\\n')\n",
    "\n",
    "\n",
    "if __name__ == \"__main__\":\n",
    "    # Define input and output file paths\n",
    "    src_files = [\n",
    "        '/home/Nema/UniCRS_GraphRAG/data/redial/test_data_dbpedia_raw.jsonl',\n",
    "        '/home/Nema/UniCRS_GraphRAG/data/redial/valid_data_dbpedia_raw.jsonl',\n",
    "        '/home/Nema/UniCRS_GraphRAG/data/redial/train_data_dbpedia_raw.jsonl'\n",
    "    ]\n",
    "\n",
    "    tgt_files = [\n",
    "        '/home/Nema/UniCRS_GraphRAG/data/redial/test_data_dbpedia.jsonl',\n",
    "        '/home/Nema/UniCRS_GraphRAG/data/redial/valid_data_dbpedia.jsonl',\n",
    "        '/home/Nema/UniCRS_GraphRAG/data/redial/train_data_dbpedia.jsonl'\n",
    "    ]\n",
    "\n",
    "    # Process each file\n",
    "    for src_file, tgt_file in zip(src_files, tgt_files):\n",
    "        process_file(src_file, tgt_file, entity2id)\n",
    "\n",
    "    print(\"Processing completed for all files.\")\n"
   ]
  },
  {
   "cell_type": "code",
   "execution_count": null,
   "metadata": {},
   "outputs": [],
   "source": []
  }
 ],
 "metadata": {
  "kernelspec": {
   "display_name": "graphrag",
   "language": "python",
   "name": "python3"
  },
  "language_info": {
   "codemirror_mode": {
    "name": "ipython",
    "version": 3
   },
   "file_extension": ".py",
   "mimetype": "text/x-python",
   "name": "python",
   "nbconvert_exporter": "python",
   "pygments_lexer": "ipython3",
   "version": "3.10.16"
  }
 },
 "nbformat": 4,
 "nbformat_minor": 2
}
